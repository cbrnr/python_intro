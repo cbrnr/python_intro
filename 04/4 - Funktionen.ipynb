{
 "cells": [
  {
   "cell_type": "markdown",
   "metadata": {},
   "source": [
    "_Einführung in Python, Clemens Brunner, 22.3.2021_\n",
    "\n",
    "# 4 &ndash; Funktionen"
   ]
  },
  {
   "cell_type": "markdown",
   "metadata": {},
   "source": [
    "Funktionen kann man sich wie \"Mini-Programme\" bzw. \"Mini-Scripts\" vorstellen. Sie gruppieren mehrere Anweisungen zu einem zusammengehörigen Block. Funktionen dienen dazu, Programmcode zu strukturieren (erhöht die Lesbarkeit) und wiederverwendbar zu machen. Funktionen machen Programme in der Regel auch kürzer, weil wiederholt auszuführender Code in Funktionen ausgelagert werden kann. Daher muss man diesen Code nur ein Mal schreiben und kann diesen beliebig oft aufrufen. Sollten einmal Änderungen notwendig sein, muss man diese nur an einer Stelle vornehmen. Manche Funktionen lassen sich außerdem auch in anderen Programmen wiederverwenden.\n",
    "\n",
    "Funktionen sollten klar definierte Aufgaben erfüllen und nicht zu lange sein. Einige Funktionen haben wir bereits kennengelernt wie z.B. `print` und `type`.\n",
    "\n",
    "## Funktionsaufruf\n",
    "Eine Funktion ruft man mit ihrem Namen gefolgt von einem runden Klammernpaar auf. Innerhalb der Klammern werden die *Argumente* für die Funktion übergeben falls notwendig. Mit Argumenten übergibt man der Funktion Werte, welche diese für die Ausführung benötigt.\n",
    "\n",
    "Hier sind zwei Beispiele für Funktionsaufrufe mit jeweils einem Argument:"
   ]
  },
  {
   "cell_type": "code",
   "execution_count": 1,
   "metadata": {},
   "outputs": [
    {
     "name": "stdout",
     "output_type": "stream",
     "text": [
      "Hello\n"
     ]
    }
   ],
   "source": [
    "print(\"Hello\")"
   ]
  },
  {
   "cell_type": "code",
   "execution_count": 2,
   "metadata": {},
   "outputs": [
    {
     "data": {
      "text/plain": [
       "str"
      ]
     },
     "execution_count": 2,
     "metadata": {},
     "output_type": "execute_result"
    }
   ],
   "source": [
    "type(\"Hello\")"
   ]
  },
  {
   "cell_type": "markdown",
   "metadata": {},
   "source": [
    "Lässt man die Klammern weg, wird die Funktion nicht aufgerufen &ndash; es wird dann lediglich der Wert (also das Funktionsobjekt) angezeigt wenn man Python im interaktiven Modus verwendet."
   ]
  },
  {
   "cell_type": "code",
   "execution_count": 3,
   "metadata": {},
   "outputs": [
    {
     "data": {
      "text/plain": [
       "<function print>"
      ]
     },
     "execution_count": 3,
     "metadata": {},
     "output_type": "execute_result"
    }
   ],
   "source": [
    "print"
   ]
  },
  {
   "cell_type": "markdown",
   "metadata": {},
   "source": [
    "## Funktionsdefinition\n",
    "In Python wird eine Funktion wie folgt definiert (Pseudo-Code):\n",
    "\n",
    "```python\n",
    "def function_name(parameter1, parameter2, ...):\n",
    "    <do something>\n",
    "    ...\n",
    "    <optionally return something>\n",
    "```\n",
    "\n",
    "Eine Funktionsdefinition beginnt immer mit dem Schlüsselwort `def`. Danach folgt der (frei wählbare) Funktionsname. Die PEP8-Konvention schreibt vor, dass Funktionsnamen aus Kleinbuchstaben getrennt mit Unterstrichen bestehen sollten, z.B.:\n",
    "\n",
    "```python\n",
    "def test_function\n",
    "```\n",
    "\n",
    "Nach dem Funktionsnamen folgt eine (optionale) mit Kommas getrennte Liste von Parametern in runden Klammern, welcher der Funktion übergeben werden sollen. Es gibt auch Funktionen, die keine Parameter haben &ndash; die beiden runden Klammern müssen aber immer vorhanden sein. Beispiel:\n",
    "\n",
    "```python\n",
    "def test_function()  # ohne Parameter\n",
    "```\n",
    "\n",
    "Oder:\n",
    "\n",
    "```python\n",
    "def test_function(n, verbose)  # zwei Parameter namens n und verbose\n",
    "```\n",
    "\n",
    "Zuletzt schließt ein Doppelpunkt den sogenannten Funktionskopf ab:\n",
    "\n",
    "```python\n",
    "def test_function(n, verbose):\n",
    "```\n",
    "\n",
    "Nun folgt der Code, welcher von der Funktion ausgeführt wird wenn diese aufgerufen wird &ndash; dieser Code muss eingerückt sein. Man spricht hier vom sogenannten Funktionskörper &ndash; dies ist der Code, der die eigentliche Arbeit der Funktion erledigt. Im Funktionskörper kann man insbesondere die Parameter verwenden &ndash; diese sind nur innerhalb der Funktion vorhanden und erhalten die Werte der Argumente, welche beim Funktionsaufruf angegeben werden.\n",
    "\n",
    "Eine Funktion kann also *Parameter* haben, welche bei der *Definition* angegeben werden. Wenn man die Funktion aufruft, muss man für alle Parameter konkrete Werte übergeben &ndash; diese konkreten Werte nennt man *Argumente*.\n",
    "\n",
    "Das folgende Beispiel definiert eine Funktion namens `test_function`, welche zwei Zeilen im Funktionskörper umfasst:"
   ]
  },
  {
   "cell_type": "code",
   "execution_count": 4,
   "metadata": {},
   "outputs": [],
   "source": [
    "def test_function():\n",
    "    s = \"Hello world!\"\n",
    "    print(s)"
   ]
  },
  {
   "cell_type": "markdown",
   "metadata": {},
   "source": [
    "Man beachte, dass die Funktion hier lediglich definiert wurde, d.h. sie wurde noch nicht ausgeführt. Sie ist aber dem Python-Interpreter ab jetzt bekannt (d.h. es existiert ein Name `test_function`, welcher auf ein Funktionsobjekt verweist):"
   ]
  },
  {
   "cell_type": "code",
   "execution_count": 5,
   "metadata": {},
   "outputs": [
    {
     "data": {
      "text/plain": [
       "<function __main__.test_function()>"
      ]
     },
     "execution_count": 5,
     "metadata": {},
     "output_type": "execute_result"
    }
   ],
   "source": [
    "test_function"
   ]
  },
  {
   "cell_type": "code",
   "execution_count": 6,
   "metadata": {},
   "outputs": [
    {
     "data": {
      "text/plain": [
       "function"
      ]
     },
     "execution_count": 6,
     "metadata": {},
     "output_type": "execute_result"
    }
   ],
   "source": [
    "type(test_function)"
   ]
  },
  {
   "cell_type": "markdown",
   "metadata": {},
   "source": [
    "Aufgerufen kann die Funktion nun wie folgt werden (die runden Klammern sind essentiell für den Aufruf):"
   ]
  },
  {
   "cell_type": "code",
   "execution_count": 7,
   "metadata": {},
   "outputs": [
    {
     "name": "stdout",
     "output_type": "stream",
     "text": [
      "Hello world!\n"
     ]
    }
   ],
   "source": [
    "test_function()"
   ]
  },
  {
   "cell_type": "markdown",
   "metadata": {},
   "source": [
    "Im Fall einer Funktion mit Parametern würden die Definition und der Aufruf so aussehen:"
   ]
  },
  {
   "cell_type": "code",
   "execution_count": 8,
   "metadata": {},
   "outputs": [],
   "source": [
    "def test_function_2(n, verbose):  # Definition\n",
    "    if verbose:\n",
    "        print(n)"
   ]
  },
  {
   "cell_type": "code",
   "execution_count": 9,
   "metadata": {},
   "outputs": [
    {
     "name": "stdout",
     "output_type": "stream",
     "text": [
      "Hello world!\n"
     ]
    }
   ],
   "source": [
    "test_function_2(\"Hello world!\", True)  # Aufruf mit konkreten Argumenten"
   ]
  },
  {
   "cell_type": "code",
   "execution_count": 10,
   "metadata": {},
   "outputs": [],
   "source": [
    "test_function_2(\"Hi!\", False)  # weiterer Aufruf mit anderen Argumenten"
   ]
  },
  {
   "cell_type": "markdown",
   "metadata": {},
   "source": [
    "Übergibt man beim Aufruf dieser Funktion nicht genau die erwartete Anzahl an Argumenten, bekommt man einen Fehler:"
   ]
  },
  {
   "cell_type": "code",
   "execution_count": 11,
   "metadata": {},
   "outputs": [
    {
     "ename": "TypeError",
     "evalue": "test_function_2() missing 2 required positional arguments: 'n' and 'verbose'",
     "output_type": "error",
     "traceback": [
      "\u001b[0;31m---------------------------------------------------------------------------\u001b[0m",
      "\u001b[0;31mTypeError\u001b[0m                                 Traceback (most recent call last)",
      "\u001b[0;32m<ipython-input-11-97bfee30ee89>\u001b[0m in \u001b[0;36m<module>\u001b[0;34m\u001b[0m\n\u001b[0;32m----> 1\u001b[0;31m \u001b[0mtest_function_2\u001b[0m\u001b[0;34m(\u001b[0m\u001b[0;34m)\u001b[0m  \u001b[0;31m# zwei Argumente erwartet, aber keine übergeben!\u001b[0m\u001b[0;34m\u001b[0m\u001b[0;34m\u001b[0m\u001b[0m\n\u001b[0m",
      "\u001b[0;31mTypeError\u001b[0m: test_function_2() missing 2 required positional arguments: 'n' and 'verbose'"
     ]
    }
   ],
   "source": [
    "test_function_2()  # zwei Argumente erwartet, aber keine übergeben!"
   ]
  },
  {
   "cell_type": "markdown",
   "metadata": {},
   "source": [
    "Es ist üblich, gleich in der ersten Zeile des Funktionskörpers eine kurze Beschreibung der Funktion in einem sogenannten *Doc-String* anzugeben (dieser kann sich auch über mehr als eine Zeile erstrecken). Ein Doc-String wird von jeweils drei Anführungszeichen `\"\"\"` umschlossen. Das Vorhandensein eines Doc-Strings ändert nichts an der Funktionsweise, dient aber der Dokumentation und gehört zum guten Coding-Stil dazu. Beispiel:"
   ]
  },
  {
   "cell_type": "code",
   "execution_count": 12,
   "metadata": {},
   "outputs": [],
   "source": [
    "def test_function():\n",
    "    \"\"\"Print hello world.\"\"\"\n",
    "    s = \"Hello world!\"\n",
    "    print(s)"
   ]
  },
  {
   "cell_type": "markdown",
   "metadata": {},
   "source": [
    "## Rückgabewerte\n",
    "In beiden soeben definierten Funktionen `test_function` und `test_function_2` wird kein Wert explizit zurückgegeben (d.h. die Funktion führt nur Code aus und gibt standardmäßig `None` zurück). Diese beiden Funktionen haben also keinen Wert wenn man sie aufruft, sie sind also keine Ausdrücke. In manchen Programmiersprachen wird so zwischen Funktionen (geben Werte zurück) und Prozeduren (geben nichts zurück) unterschieden, aber in Python gibt es nur Funktionen (die aber auch `None` zurückgeben können, was automatisch passiert falls nichts anderes angegeben wird).\n",
    "\n",
    "Wenn eine Funktion explizit einen Wert (ein Ergebnis) zurückgeben soll, verwendet man dazu den Befehl `return` gefolgt vom gewünschten Rückgabewert."
   ]
  },
  {
   "cell_type": "code",
   "execution_count": 13,
   "metadata": {},
   "outputs": [],
   "source": [
    "def add_one(number):\n",
    "    \"\"\"Increment a given number by one.\"\"\"\n",
    "    return number + 1"
   ]
  },
  {
   "cell_type": "code",
   "execution_count": 14,
   "metadata": {},
   "outputs": [
    {
     "data": {
      "text/plain": [
       "6"
      ]
     },
     "execution_count": 14,
     "metadata": {},
     "output_type": "execute_result"
    }
   ],
   "source": [
    "add_one(5)"
   ]
  },
  {
   "cell_type": "markdown",
   "metadata": {},
   "source": [
    "Nun kann man dem Rückgabewert einer Funktion einfach einen Namen geben:"
   ]
  },
  {
   "cell_type": "code",
   "execution_count": 15,
   "metadata": {},
   "outputs": [],
   "source": [
    "x = add_one(9)"
   ]
  },
  {
   "cell_type": "code",
   "execution_count": 16,
   "metadata": {},
   "outputs": [
    {
     "data": {
      "text/plain": [
       "10"
      ]
     },
     "execution_count": 16,
     "metadata": {},
     "output_type": "execute_result"
    }
   ],
   "source": [
    "x"
   ]
  },
  {
   "cell_type": "markdown",
   "metadata": {},
   "source": [
    "Oder man kann den Wert einer Funktion (entspricht dem Rückgabewert) auch explizit am Bildschirm ausgeben (d.h. als Argument der `print`-Funktion übergeben):"
   ]
  },
  {
   "cell_type": "code",
   "execution_count": 17,
   "metadata": {},
   "outputs": [
    {
     "name": "stdout",
     "output_type": "stream",
     "text": [
      "123\n"
     ]
    }
   ],
   "source": [
    "print(add_one(122))"
   ]
  },
  {
   "cell_type": "markdown",
   "metadata": {},
   "source": [
    "Man kann überall dort, wo man einen Wert angeben kann, auch einen Ausdruck (eine beliebige Kombination aus Werten und Operatoren) einsetzen &ndash; eben auch eine Funktion, die einen Wert zurückgibt. Dies wird in der Informatik als *Komposition* bezeichnet. Die Werte werden der Reihe nach (von innen nach außen) verarbeitet und eingesetzt, bis zum Schluss ein einziger Wert übrig bleibt. Python versucht also immer, einen Ausdruck auf einen einzigen Wert zu reduzieren."
   ]
  },
  {
   "cell_type": "code",
   "execution_count": 18,
   "metadata": {},
   "outputs": [
    {
     "data": {
      "text/plain": [
       "4"
      ]
     },
     "execution_count": 18,
     "metadata": {},
     "output_type": "execute_result"
    }
   ],
   "source": [
    "add_one(add_one(add_one(1)))"
   ]
  },
  {
   "cell_type": "markdown",
   "metadata": {},
   "source": [
    "## Argumente\n",
    "### Default-Argumente\n",
    "Eine Funktion kann keine Parameter haben oder eine bestimmte bzw. auch unbestimmte Anzahl an Parametern erwarten. Wenn eine bestimmte Anzahl an Parametern im Funktionskopf definiert wird, können einzelnen Parametern Defaultwerte (Standardwerte) zugewiesen werden. Dies bedeutet, dass die Funktion auch mit weniger Argumenten als erwartet aufgerufen werden kann, wenn für die fehlenden Argumente Defaultwerte existieren."
   ]
  },
  {
   "cell_type": "code",
   "execution_count": 19,
   "metadata": {},
   "outputs": [],
   "source": [
    "def add(number, increment=1):  # increment hat den Defaultwert 1\n",
    "    return number + increment"
   ]
  },
  {
   "cell_type": "markdown",
   "metadata": {},
   "source": [
    "Die Funktion kann jetzt mit zwei Argumenten oder nur mit dem ersten Argument aufgerufen werden:"
   ]
  },
  {
   "cell_type": "code",
   "execution_count": 20,
   "metadata": {},
   "outputs": [
    {
     "data": {
      "text/plain": [
       "8"
      ]
     },
     "execution_count": 20,
     "metadata": {},
     "output_type": "execute_result"
    }
   ],
   "source": [
    "add(7, 1)"
   ]
  },
  {
   "cell_type": "code",
   "execution_count": 21,
   "metadata": {},
   "outputs": [
    {
     "data": {
      "text/plain": [
       "8"
      ]
     },
     "execution_count": 21,
     "metadata": {},
     "output_type": "execute_result"
    }
   ],
   "source": [
    "add(7)"
   ]
  },
  {
   "cell_type": "code",
   "execution_count": 22,
   "metadata": {},
   "outputs": [
    {
     "data": {
      "text/plain": [
       "10"
      ]
     },
     "execution_count": 22,
     "metadata": {},
     "output_type": "execute_result"
    }
   ],
   "source": [
    "add(7, 3)"
   ]
  },
  {
   "cell_type": "markdown",
   "metadata": {},
   "source": [
    "### Keyword-Argumente\n",
    "Funktionen können auch so aufgerufen werden, dass die Namen der Parameter gemeinsam mit den Argumenten in der Form `kwarg=value` explizit hingeschrieben werden. Man spricht dann von Keyword-Argumenten (nicht zu verwechseln mit den Python-Keywords). D.h. die obige Funktion `add()` kann auch so aufgerufen werden:"
   ]
  },
  {
   "cell_type": "code",
   "execution_count": 23,
   "metadata": {},
   "outputs": [
    {
     "data": {
      "text/plain": [
       "6"
      ]
     },
     "execution_count": 23,
     "metadata": {},
     "output_type": "execute_result"
    }
   ],
   "source": [
    "add(number=5)"
   ]
  },
  {
   "cell_type": "code",
   "execution_count": 24,
   "metadata": {},
   "outputs": [
    {
     "data": {
      "text/plain": [
       "7"
      ]
     },
     "execution_count": 24,
     "metadata": {},
     "output_type": "execute_result"
    }
   ],
   "source": [
    "add(number=5, increment=2)"
   ]
  },
  {
   "cell_type": "code",
   "execution_count": 25,
   "metadata": {},
   "outputs": [
    {
     "data": {
      "text/plain": [
       "7"
      ]
     },
     "execution_count": 25,
     "metadata": {},
     "output_type": "execute_result"
    }
   ],
   "source": [
    "add(increment=2, number=5)"
   ]
  },
  {
   "cell_type": "markdown",
   "metadata": {},
   "source": [
    "Dies dient einerseits der besseren Lesbarkeit, da unmittelbar klar ist, welche Parameter welche konkreten Argumente erhalten. Andererseits kann man so die Argumente auch in beliebiger Reihenfolge angeben.\n",
    "\n",
    "Wenn der Argumentname nicht angegeben wird, wird die Position des Arguments bei der Zuweisung herangezogen. Man spricht in diesem Fall von *positionalen Argumenten*. Man kann positionale und Keyword-Argumente auch mischen, aber alle positionalen Argumente müssen vor dem ersten Keyword-Argument kommen."
   ]
  },
  {
   "cell_type": "code",
   "execution_count": 26,
   "metadata": {},
   "outputs": [
    {
     "data": {
      "text/plain": [
       "7"
      ]
     },
     "execution_count": 26,
     "metadata": {},
     "output_type": "execute_result"
    }
   ],
   "source": [
    "add(5, increment=2)"
   ]
  },
  {
   "cell_type": "code",
   "execution_count": 27,
   "metadata": {},
   "outputs": [],
   "source": [
    "def test(name, number, exponent=5, skip=7, text=\"Hello\"):\n",
    "    print(text, name, end=\" \")\n",
    "    return number**exponent - skip "
   ]
  },
  {
   "cell_type": "code",
   "execution_count": 28,
   "metadata": {},
   "outputs": [
    {
     "name": "stdout",
     "output_type": "stream",
     "text": [
      "Hello Python "
     ]
    },
    {
     "data": {
      "text/plain": [
       "25"
      ]
     },
     "execution_count": 28,
     "metadata": {},
     "output_type": "execute_result"
    }
   ],
   "source": [
    "test(\"Python\", 2)"
   ]
  },
  {
   "cell_type": "code",
   "execution_count": 29,
   "metadata": {},
   "outputs": [
    {
     "name": "stdout",
     "output_type": "stream",
     "text": [
      "Hello Python "
     ]
    },
    {
     "data": {
      "text/plain": [
       "236"
      ]
     },
     "execution_count": 29,
     "metadata": {},
     "output_type": "execute_result"
    }
   ],
   "source": [
    "test(\"Python\", 3)"
   ]
  },
  {
   "cell_type": "code",
   "execution_count": 30,
   "metadata": {},
   "outputs": [
    {
     "name": "stdout",
     "output_type": "stream",
     "text": [
      "Hello Test "
     ]
    },
    {
     "data": {
      "text/plain": [
       "74"
      ]
     },
     "execution_count": 30,
     "metadata": {},
     "output_type": "execute_result"
    }
   ],
   "source": [
    "test(\"Test\", 3, 4)"
   ]
  },
  {
   "cell_type": "markdown",
   "metadata": {},
   "source": [
    "Keyword-Argumente sind sehr praktisch, wenn man für die meisten Parameter Default-Werte verwenden möchte, aber z.B. für einen einzigen Parameter einen anderen Wert setzen will. Dann muss man nämlich nicht alle Argumente übergeben, sondern nur jene, für die man andere Werte als die Standardwerte haben möchte."
   ]
  },
  {
   "cell_type": "code",
   "execution_count": 31,
   "metadata": {},
   "outputs": [
    {
     "name": "stdout",
     "output_type": "stream",
     "text": [
      "Hello Test "
     ]
    },
    {
     "data": {
      "text/plain": [
       "30"
      ]
     },
     "execution_count": 31,
     "metadata": {},
     "output_type": "execute_result"
    }
   ],
   "source": [
    "test(\"Test\", 2, skip=2)"
   ]
  },
  {
   "cell_type": "markdown",
   "metadata": {},
   "source": [
    "Weiteres Beispiel:"
   ]
  },
  {
   "cell_type": "code",
   "execution_count": 32,
   "metadata": {},
   "outputs": [],
   "source": [
    "def parrot(voltage, state='a stiff', action='voom', type='Norwegian Blue'):\n",
    "    print(\"-- This parrot wouldn't\", action, end=' ')\n",
    "    print(\"if you put\", voltage, \"volts through it.\")\n",
    "    print(\"-- Lovely plumage, the\", type)\n",
    "    print(\"-- It's\", state + \"!\")"
   ]
  },
  {
   "cell_type": "markdown",
   "metadata": {},
   "source": [
    "Gültige Funktionsaufrufe sind:"
   ]
  },
  {
   "cell_type": "code",
   "execution_count": 33,
   "metadata": {},
   "outputs": [
    {
     "name": "stdout",
     "output_type": "stream",
     "text": [
      "-- This parrot wouldn't voom if you put 1000 volts through it.\n",
      "-- Lovely plumage, the Norwegian Blue\n",
      "-- It's a stiff!\n",
      "-- This parrot wouldn't voom if you put 1000 volts through it.\n",
      "-- Lovely plumage, the Norwegian Blue\n",
      "-- It's a stiff!\n",
      "-- This parrot wouldn't VOOOOOM if you put 1000000 volts through it.\n",
      "-- Lovely plumage, the Norwegian Blue\n",
      "-- It's a stiff!\n",
      "-- This parrot wouldn't VOOOOOM if you put 1000000 volts through it.\n",
      "-- Lovely plumage, the Norwegian Blue\n",
      "-- It's a stiff!\n",
      "-- This parrot wouldn't jump if you put a million volts through it.\n",
      "-- Lovely plumage, the Norwegian Blue\n",
      "-- It's bereft of life!\n",
      "-- This parrot wouldn't voom if you put a thousand volts through it.\n",
      "-- Lovely plumage, the Norwegian Blue\n",
      "-- It's pushing up the daisies!\n"
     ]
    }
   ],
   "source": [
    "parrot(1000)  # 1 positionales Argument\n",
    "parrot(voltage=1000)  # 1 Keyword-Argument\n",
    "parrot(voltage=1000000, action='VOOOOOM')  # 2 Keyword-Argumente\n",
    "parrot(action='VOOOOOM', voltage=1000000)  # 2 Keyword-Argumente\n",
    "parrot('a million', 'bereft of life', 'jump')  # 3 positionale Argumente\n",
    "parrot('a thousand', state='pushing up the daisies')  # 1 positionales, 1 Keyword-Argument"
   ]
  },
  {
   "cell_type": "markdown",
   "metadata": {},
   "source": [
    "Ungültige Aufrufe sind:"
   ]
  },
  {
   "cell_type": "code",
   "execution_count": 34,
   "metadata": {},
   "outputs": [
    {
     "ename": "TypeError",
     "evalue": "parrot() missing 1 required positional argument: 'voltage'",
     "output_type": "error",
     "traceback": [
      "\u001b[0;31m---------------------------------------------------------------------------\u001b[0m",
      "\u001b[0;31mTypeError\u001b[0m                                 Traceback (most recent call last)",
      "\u001b[0;32m<ipython-input-34-fe45d5f0bad1>\u001b[0m in \u001b[0;36m<module>\u001b[0;34m\u001b[0m\n\u001b[0;32m----> 1\u001b[0;31m \u001b[0mparrot\u001b[0m\u001b[0;34m(\u001b[0m\u001b[0;34m)\u001b[0m  \u001b[0;31m# verpflichtendes Argument (hat keinen Defaultwert) fehlt\u001b[0m\u001b[0;34m\u001b[0m\u001b[0;34m\u001b[0m\u001b[0m\n\u001b[0m",
      "\u001b[0;31mTypeError\u001b[0m: parrot() missing 1 required positional argument: 'voltage'"
     ]
    }
   ],
   "source": [
    "parrot()  # verpflichtendes Argument (hat keinen Defaultwert) fehlt"
   ]
  },
  {
   "cell_type": "code",
   "execution_count": 35,
   "metadata": {},
   "outputs": [
    {
     "ename": "SyntaxError",
     "evalue": "positional argument follows keyword argument (<ipython-input-35-c6dfdeaefb8c>, line 1)",
     "output_type": "error",
     "traceback": [
      "\u001b[0;36m  File \u001b[0;32m\"<ipython-input-35-c6dfdeaefb8c>\"\u001b[0;36m, line \u001b[0;32m1\u001b[0m\n\u001b[0;31m    parrot(voltage=5.0, 'dead')  # positionales Argument kommt nach einem Keyword-Argument\u001b[0m\n\u001b[0m                        ^\u001b[0m\n\u001b[0;31mSyntaxError\u001b[0m\u001b[0;31m:\u001b[0m positional argument follows keyword argument\n"
     ]
    }
   ],
   "source": [
    "parrot(voltage=5.0, 'dead')  # positionales Argument kommt nach einem Keyword-Argument"
   ]
  },
  {
   "cell_type": "code",
   "execution_count": 36,
   "metadata": {},
   "outputs": [
    {
     "ename": "TypeError",
     "evalue": "parrot() got multiple values for argument 'voltage'",
     "output_type": "error",
     "traceback": [
      "\u001b[0;31m---------------------------------------------------------------------------\u001b[0m",
      "\u001b[0;31mTypeError\u001b[0m                                 Traceback (most recent call last)",
      "\u001b[0;32m<ipython-input-36-68430a4b5d1c>\u001b[0m in \u001b[0;36m<module>\u001b[0;34m\u001b[0m\n\u001b[0;32m----> 1\u001b[0;31m \u001b[0mparrot\u001b[0m\u001b[0;34m(\u001b[0m\u001b[0;36m110\u001b[0m\u001b[0;34m,\u001b[0m \u001b[0mvoltage\u001b[0m\u001b[0;34m=\u001b[0m\u001b[0;36m220\u001b[0m\u001b[0;34m)\u001b[0m  \u001b[0;31m# ein Argument erhält doppelt Werte\u001b[0m\u001b[0;34m\u001b[0m\u001b[0;34m\u001b[0m\u001b[0m\n\u001b[0m",
      "\u001b[0;31mTypeError\u001b[0m: parrot() got multiple values for argument 'voltage'"
     ]
    }
   ],
   "source": [
    "parrot(110, voltage=220)  # ein Argument erhält doppelt Werte"
   ]
  },
  {
   "cell_type": "code",
   "execution_count": 37,
   "metadata": {},
   "outputs": [
    {
     "ename": "TypeError",
     "evalue": "parrot() got an unexpected keyword argument 'actor'",
     "output_type": "error",
     "traceback": [
      "\u001b[0;31m---------------------------------------------------------------------------\u001b[0m",
      "\u001b[0;31mTypeError\u001b[0m                                 Traceback (most recent call last)",
      "\u001b[0;32m<ipython-input-37-69ed09022b13>\u001b[0m in \u001b[0;36m<module>\u001b[0;34m\u001b[0m\n\u001b[0;32m----> 1\u001b[0;31m \u001b[0mparrot\u001b[0m\u001b[0;34m(\u001b[0m\u001b[0;36m230\u001b[0m\u001b[0;34m,\u001b[0m \u001b[0mactor\u001b[0m\u001b[0;34m=\u001b[0m\u001b[0;34m'John Cleese'\u001b[0m\u001b[0;34m)\u001b[0m  \u001b[0;31m# unbekanntes Keyword-Argument\u001b[0m\u001b[0;34m\u001b[0m\u001b[0;34m\u001b[0m\u001b[0m\n\u001b[0m",
      "\u001b[0;31mTypeError\u001b[0m: parrot() got an unexpected keyword argument 'actor'"
     ]
    }
   ],
   "source": [
    "parrot(230, actor='John Cleese')  # unbekanntes Keyword-Argument"
   ]
  },
  {
   "cell_type": "markdown",
   "metadata": {},
   "source": [
    "## Gültigkeitsbereiche (Scopes)\n",
    "Alles, was innerhalb einer Funktion definiert wird, ist nur in dieser Funktion sichtbar und zugreifbar. Man spricht von einem lokalen Scope, welcher sich auf die Funktion und weitere untergeordnete Scopes erstreckt. Gültigkeitsbereiche entsprechen in Python im Prinzip den Einrückungen."
   ]
  },
  {
   "cell_type": "code",
   "execution_count": 38,
   "metadata": {},
   "outputs": [
    {
     "name": "stdout",
     "output_type": "stream",
     "text": [
      "15\n"
     ]
    }
   ],
   "source": [
    "def test():\n",
    "    s = 15  # s ist nur lokal in der Funktion definiert\n",
    "    print(s)\n",
    "\n",
    "test()"
   ]
  },
  {
   "cell_type": "code",
   "execution_count": 39,
   "metadata": {},
   "outputs": [
    {
     "ename": "NameError",
     "evalue": "name 's' is not defined",
     "output_type": "error",
     "traceback": [
      "\u001b[0;31m---------------------------------------------------------------------------\u001b[0m",
      "\u001b[0;31mNameError\u001b[0m                                 Traceback (most recent call last)",
      "\u001b[0;32m<ipython-input-39-8330fbeea4e0>\u001b[0m in \u001b[0;36m<module>\u001b[0;34m\u001b[0m\n\u001b[0;32m----> 1\u001b[0;31m \u001b[0mprint\u001b[0m\u001b[0;34m(\u001b[0m\u001b[0ms\u001b[0m\u001b[0;34m)\u001b[0m  \u001b[0;31m# außerhalb der Funktion existiert s nicht\u001b[0m\u001b[0;34m\u001b[0m\u001b[0;34m\u001b[0m\u001b[0m\n\u001b[0m",
      "\u001b[0;31mNameError\u001b[0m: name 's' is not defined"
     ]
    }
   ],
   "source": [
    "print(s)  # außerhalb der Funktion existiert s nicht"
   ]
  },
  {
   "cell_type": "code",
   "execution_count": 40,
   "metadata": {},
   "outputs": [
    {
     "name": "stdout",
     "output_type": "stream",
     "text": [
      "15\n",
      "15\n"
     ]
    }
   ],
   "source": [
    "s = 15  # globales s\n",
    "\n",
    "def test():\n",
    "    print(s)  # s aus dem globalen Scope ist zugänglich\n",
    "    \n",
    "test()\n",
    "print(s)  # s existiert global"
   ]
  },
  {
   "cell_type": "code",
   "execution_count": 41,
   "metadata": {},
   "outputs": [
    {
     "name": "stdout",
     "output_type": "stream",
     "text": [
      "12\n",
      "15\n"
     ]
    }
   ],
   "source": [
    "s = 15  # globales s\n",
    "\n",
    "def test():\n",
    "    s = 12  # lokales s ändert globales s nicht, versteckt es aber in der Funktion\n",
    "    print(s)\n",
    "    \n",
    "test()\n",
    "print(s)"
   ]
  },
  {
   "cell_type": "code",
   "execution_count": 42,
   "metadata": {},
   "outputs": [
    {
     "ename": "UnboundLocalError",
     "evalue": "local variable 's' referenced before assignment",
     "output_type": "error",
     "traceback": [
      "\u001b[0;31m---------------------------------------------------------------------------\u001b[0m",
      "\u001b[0;31mUnboundLocalError\u001b[0m                         Traceback (most recent call last)",
      "\u001b[0;32m<ipython-input-42-1c2d862e4ca3>\u001b[0m in \u001b[0;36m<module>\u001b[0;34m\u001b[0m\n\u001b[1;32m      6\u001b[0m     \u001b[0mprint\u001b[0m\u001b[0;34m(\u001b[0m\u001b[0ms\u001b[0m\u001b[0;34m)\u001b[0m\u001b[0;34m\u001b[0m\u001b[0;34m\u001b[0m\u001b[0m\n\u001b[1;32m      7\u001b[0m \u001b[0;34m\u001b[0m\u001b[0m\n\u001b[0;32m----> 8\u001b[0;31m \u001b[0mtest\u001b[0m\u001b[0;34m(\u001b[0m\u001b[0;34m)\u001b[0m\u001b[0;34m\u001b[0m\u001b[0;34m\u001b[0m\u001b[0m\n\u001b[0m\u001b[1;32m      9\u001b[0m \u001b[0mprint\u001b[0m\u001b[0;34m(\u001b[0m\u001b[0ms\u001b[0m\u001b[0;34m)\u001b[0m\u001b[0;34m\u001b[0m\u001b[0;34m\u001b[0m\u001b[0m\n",
      "\u001b[0;32m<ipython-input-42-1c2d862e4ca3>\u001b[0m in \u001b[0;36mtest\u001b[0;34m()\u001b[0m\n\u001b[1;32m      2\u001b[0m \u001b[0;34m\u001b[0m\u001b[0m\n\u001b[1;32m      3\u001b[0m \u001b[0;32mdef\u001b[0m \u001b[0mtest\u001b[0m\u001b[0;34m(\u001b[0m\u001b[0;34m)\u001b[0m\u001b[0;34m:\u001b[0m\u001b[0;34m\u001b[0m\u001b[0;34m\u001b[0m\u001b[0m\n\u001b[0;32m----> 4\u001b[0;31m     \u001b[0mprint\u001b[0m\u001b[0;34m(\u001b[0m\u001b[0ms\u001b[0m\u001b[0;34m)\u001b[0m  \u001b[0;31m# lokales s existiert noch nicht (wird erst in der nächsten Zeile definiert) - daher Fehler\u001b[0m\u001b[0;34m\u001b[0m\u001b[0;34m\u001b[0m\u001b[0m\n\u001b[0m\u001b[1;32m      5\u001b[0m     \u001b[0ms\u001b[0m \u001b[0;34m=\u001b[0m \u001b[0;36m12\u001b[0m\u001b[0;34m\u001b[0m\u001b[0;34m\u001b[0m\u001b[0m\n\u001b[1;32m      6\u001b[0m     \u001b[0mprint\u001b[0m\u001b[0;34m(\u001b[0m\u001b[0ms\u001b[0m\u001b[0;34m)\u001b[0m\u001b[0;34m\u001b[0m\u001b[0;34m\u001b[0m\u001b[0m\n",
      "\u001b[0;31mUnboundLocalError\u001b[0m: local variable 's' referenced before assignment"
     ]
    }
   ],
   "source": [
    "s = 15  # globales s\n",
    "\n",
    "def test():\n",
    "    print(s)  # lokales s existiert noch nicht (wird erst in der nächsten Zeile definiert) - daher Fehler\n",
    "    s = 12\n",
    "    print(s)\n",
    "    \n",
    "test()\n",
    "print(s)"
   ]
  },
  {
   "cell_type": "code",
   "execution_count": 43,
   "metadata": {},
   "outputs": [
    {
     "name": "stdout",
     "output_type": "stream",
     "text": [
      "15\n",
      "12\n",
      "12\n"
     ]
    }
   ],
   "source": [
    "s = 15  # globales s\n",
    "\n",
    "def test():\n",
    "    global s  # Ermöglicht Zugriff auf das globale s\n",
    "    print(s)\n",
    "    s = 12  # ändert globales s\n",
    "    print(s)\n",
    "    \n",
    "test()\n",
    "print(s)"
   ]
  },
  {
   "cell_type": "markdown",
   "metadata": {},
   "source": [
    "Prinzipiell sollte die Deklaration `global` in lokalen Scopes vermeiden und globale/lokale Scopes trennen. Will man auf eine Variable aus einem äußeren Scope zugreifen, definiert man einen Parameter damit man diese als Argument der Funktion übergeben kann."
   ]
  },
  {
   "cell_type": "code",
   "execution_count": 44,
   "metadata": {},
   "outputs": [
    {
     "name": "stdout",
     "output_type": "stream",
     "text": [
      "15\n",
      "15\n",
      "12\n",
      "15\n"
     ]
    }
   ],
   "source": [
    "s = 15  # globales s\n",
    "\n",
    "def test(s):\n",
    "    print(s)  # lokales s (Argument)\n",
    "    s = 12\n",
    "    print(s)\n",
    "\n",
    "print(s)\n",
    "test(s)\n",
    "print(s)"
   ]
  },
  {
   "cell_type": "markdown",
   "metadata": {},
   "source": [
    "Will man eine lokale Variable in einem äußeren Scope weiter nutzen, gibt man sie am besten mit `return` zurück."
   ]
  },
  {
   "cell_type": "code",
   "execution_count": 45,
   "metadata": {},
   "outputs": [
    {
     "name": "stdout",
     "output_type": "stream",
     "text": [
      "15\n",
      "15\n",
      "12\n",
      "12\n"
     ]
    }
   ],
   "source": [
    "s = 15  # globales s\n",
    "\n",
    "def test(s):\n",
    "    print(s)  # lokales s (Argument)\n",
    "    s = 12\n",
    "    print(s)\n",
    "    return s\n",
    "\n",
    "print(s)\n",
    "s = test(s)  # globales s bekommt Rückgabewert der Funktion (lokales s)\n",
    "print(s)"
   ]
  },
  {
   "cell_type": "markdown",
   "metadata": {},
   "source": [
    "## Übungen\n",
    "\n",
    "### Übung 1\n",
    "Suchen Sie sich aus der Liste der Builtin-Funktionen (siehe vorige Einheit) drei beliebige Funktionen aus.\n",
    "\n",
    "- Rufen Sie den Hilfetext zu jeder Funktion auf und lesen Sie diesen durch, um herauszufinden was die Funktion tut.\n",
    "- Rufen Sie die drei Funktionen mit geeigneten Argumenten auf.\n",
    "- Geben Sie für jede Funktion an, ob diese einen Wert zurückgibt oder nicht. Falls ein Wert zurückgegeben wird, geben Sie diesen Wert sowie dessen Typ an!\n",
    "\n",
    "### Übung 2\n",
    "Schreiben Sie eine Funktion `mult`, welche zwei Zahlen multipliziert und deren Produkt zurückgibt. Die beiden Zahlen sollen als Argumente übergeben werden können. Rufen Sie Ihre Funktion mit ein paar Wertepaaren auf und stellen Sie sicher, dass Ihre Funktion wie gewünscht funktioniert. Die Funktion soll das Ergebnis als Wert zurückgeben, d.h. verwenden Sie innerhalb der Funktion kein `print` sondern `return`!\n",
    "\n",
    "### Übung 3\n",
    "Schreiben Sie eine Funktion `to_fahrenheit`, welche einen Parameter `celsius` hat und diese Celsius-Temperatur in Fahrenheit umwandelt und zurückgibt. Zum Testen rufen Sie Ihre Funktion mit den Celsius-Temperaturen 0, 20, 38 und 100 auf.\n",
    "\n",
    "Schreiben Sie außerdem eine Funktion `to_celsius` (mit entsprechendem Parameter `fahrenheit`) und wandeln Sie die vier Fahrenheit-Temperaturen, die Sie vorher beim Aufruf der Funktion `to_fahrenheit` erhalten haben, wieder in Celsius-Temperaturen um!\n",
    "\n",
    "### Übung 4\n",
    "Nennen Sie mindestens drei Gründe, warum man Funktionen verwendet. Erklären Sie auch kurz den Unterschied zwischen Funktionsdefinition und Funktionsaufruf! Erklären Sie den Unterschied zwischen Parameter und Argument!\n",
    "\n",
    "### Übung 5\n",
    "Schreiben Sie eine Funktion namens `nonsense`, welche drei Parameter namens `a`, `b` und `c` hat. Die beiden Argumente `b` und `c` sollen optional sein und die Standardwerte 10 bzw. 13 haben. Die Funktion soll `a**2 - b * 2 + c**2` berechnen und zurückgeben (wir setzen voraus, dass man für `a`, `b` und `c` immer Zahlenwerte übergibt). Rufen Sie die Funktion dann mit folgenden Argumenten auf:\n",
    "\n",
    "1. Ohne Argumente\n",
    "2. Mit drei positionalen Argumenten\n",
    "3. Mit zwei positionalen Argumenten\n",
    "4. Mit einem Keyword-Argument\n",
    "5. Mit zwei Keyword-Argumenten\n",
    "6. Mit zwei positionalen Argumenten und einem Keyword-Argument\n",
    "7. Mit einem positionalem und einem Keyword-Argument\n",
    "\n",
    "Wie sehen diese Funktionsaufrufe aus? Wie lauten die Rückgabewerte? Geben Sie für *jeden* Aufruf die Werte *aller drei Argumente* in einer Kommentarzeile an!\n",
    "\n",
    "*Anmerkung:* Geben Sie Funktionsaufrufe an, die keine Fehlermeldung verursachen &ndash; dies funktioniert bei allen Aufrufen bis auf den ersten (hier ist es in Ordnung, wenn der Aufruf einen Fehler verursacht)!"
   ]
  },
  {
   "cell_type": "markdown",
   "metadata": {},
   "source": [
    "---\n",
    "[![](cc_license.png)](http://creativecommons.org/licenses/by-nc-sa/4.0/)"
   ]
  }
 ],
 "metadata": {
  "kernelspec": {
   "display_name": "Python 3",
   "language": "python",
   "name": "python3"
  },
  "language_info": {
   "codemirror_mode": {
    "name": "ipython",
    "version": 3
   },
   "file_extension": ".py",
   "mimetype": "text/x-python",
   "name": "python",
   "nbconvert_exporter": "python",
   "pygments_lexer": "ipython3",
   "version": "3.9.2"
  }
 },
 "nbformat": 4,
 "nbformat_minor": 2
}
