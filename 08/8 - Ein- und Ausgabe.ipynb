{
 "cells": [
  {
   "cell_type": "markdown",
   "metadata": {},
   "source": [
    "_Einführung in Python, Clemens Brunner, 3.5.2021_\n",
    "\n",
    "# 8 &ndash; Ein- und Ausgabe\n",
    "\n",
    "## Allgemeines\n",
    "Unter Eingabe (Input) versteht man die Eingabe von Informationen von der Tastatur bzw. aus einer Datei, um diese in einem Programm verarbeiten zu können. Unter Ausgabe versteht man die Ausgabe von Informationen am Bildschirm bzw. in eine Datei (also z.B. Ergebnisse einer Berechnung). Im Folgenden werden wir sehen, wie wir Strings für die Ausgabe formatieren können und wie wir Textdateien lesen bzw. schreiben können.\n",
    "\n",
    "## Ausgabe von Strings\n",
    "### Strings verketten\n",
    "Wir haben bereits die `print`-Funktion kennengelernt, welche Strings (und andere Typen) als Text am Bildschirm ausgeben kann. Im einfachsten Fall kann so ein String ausgegeben werden:"
   ]
  },
  {
   "cell_type": "code",
   "execution_count": 1,
   "metadata": {},
   "outputs": [
    {
     "name": "stdout",
     "output_type": "stream",
     "text": [
      "Hallo\n"
     ]
    }
   ],
   "source": [
    "print(\"Hallo\")"
   ]
  },
  {
   "cell_type": "markdown",
   "metadata": {},
   "source": [
    "Auch Zahlen kann man als Argument für `print` verwenden:"
   ]
  },
  {
   "cell_type": "code",
   "execution_count": 2,
   "metadata": {},
   "outputs": [
    {
     "name": "stdout",
     "output_type": "stream",
     "text": [
      "55\n"
     ]
    }
   ],
   "source": [
    "print(55)"
   ]
  },
  {
   "cell_type": "markdown",
   "metadata": {},
   "source": [
    "Mit der Funktion `str` kann man beliebige Objekte (also z.B. solche mit numerischem Typ) in einen String umwandeln."
   ]
  },
  {
   "cell_type": "code",
   "execution_count": 3,
   "metadata": {},
   "outputs": [
    {
     "data": {
      "text/plain": [
       "'55'"
      ]
     },
     "execution_count": 3,
     "metadata": {},
     "output_type": "execute_result"
    }
   ],
   "source": [
    "str(55)"
   ]
  },
  {
   "cell_type": "markdown",
   "metadata": {},
   "source": [
    "Die `print`-Funktion kann beliebig viele Argumente entgegennehmen. Sie gibt dann alle Argumente, getrennt von Leerzeichen, am Bildschirm aus."
   ]
  },
  {
   "cell_type": "code",
   "execution_count": 4,
   "metadata": {},
   "outputs": [
    {
     "name": "stdout",
     "output_type": "stream",
     "text": [
      "5 + 10 = 15\n"
     ]
    }
   ],
   "source": [
    "a = 5\n",
    "b = 10\n",
    "print(a, \"+\", b, \"=\", a + b)  # fünf Argumente"
   ]
  },
  {
   "cell_type": "markdown",
   "metadata": {},
   "source": [
    "Wie wir bereits wissen, kann man mehrere Strings mit `+` aneinanderketten. Daher könnte man obige Ausgabe auch durch Ausgabe eines einzigen Strings durch Aneinanderketten von einzelnen Strings erzeugen."
   ]
  },
  {
   "cell_type": "code",
   "execution_count": 5,
   "metadata": {},
   "outputs": [
    {
     "name": "stdout",
     "output_type": "stream",
     "text": [
      "5 + 10 = 15\n"
     ]
    }
   ],
   "source": [
    "print(str(a) + \" + \" + str(b) + \" = \" + str(a + b))  # ein Argument (langer String)"
   ]
  },
  {
   "cell_type": "markdown",
   "metadata": {},
   "source": [
    "### Die `format`-Methode\n",
    "Strings besitzen eine Methode namens `format`, mit der man deren Ausgabe formatieren kann. So einen formatierten String kann man dann einfach mit `print` am Bildschirm ausgeben."
   ]
  },
  {
   "cell_type": "code",
   "execution_count": 6,
   "metadata": {},
   "outputs": [
    {
     "name": "stdout",
     "output_type": "stream",
     "text": [
      "We are the knights who say \"Ni!\"\n"
     ]
    }
   ],
   "source": [
    "print('We are the {} who say \"{}!\"'.format('knights', 'Ni'))"
   ]
  },
  {
   "cell_type": "markdown",
   "metadata": {},
   "source": [
    "Die geschwungenen Klammern und deren Inhalt werden durch die Argumente von `format` ersetzt und entsprechend formatiert. Im einfachsten Fall wie oben sind diese geschwungenen Klammern leer, d.h. die Argumente `'knights'` und `'Ni'` werden einfach der Reihe nach eingesetzt.\n",
    "\n",
    "Man kann in die Klammern aber auch Zahlen schreiben, um eine bestimmte Position in den `format`-Argumenten anzusprechen."
   ]
  },
  {
   "cell_type": "code",
   "execution_count": 7,
   "metadata": {},
   "outputs": [
    {
     "name": "stdout",
     "output_type": "stream",
     "text": [
      "spam and eggs\n"
     ]
    }
   ],
   "source": [
    "print('{0} and {1}'.format('spam', 'eggs'))  # Argument 0 ist 'spam', Argument 1 ist 'eggs'"
   ]
  },
  {
   "cell_type": "code",
   "execution_count": 8,
   "metadata": {},
   "outputs": [
    {
     "name": "stdout",
     "output_type": "stream",
     "text": [
      "eggs and spam and eggs\n"
     ]
    }
   ],
   "source": [
    "print('{1} and {0} and {1}'.format('spam', 'eggs'))"
   ]
  },
  {
   "cell_type": "markdown",
   "metadata": {},
   "source": [
    "Keyword-Argumente können direkt mit deren Namen eingesetzt werden."
   ]
  },
  {
   "cell_type": "code",
   "execution_count": 9,
   "metadata": {},
   "outputs": [
    {
     "name": "stdout",
     "output_type": "stream",
     "text": [
      "This spam is absolutely horrible.\n"
     ]
    }
   ],
   "source": [
    "print('This {food} is {adjective}.'.format(food='spam', adjective='absolutely horrible'))"
   ]
  },
  {
   "cell_type": "markdown",
   "metadata": {},
   "source": [
    "Das Beispiel von oben lautet mit `format`:"
   ]
  },
  {
   "cell_type": "code",
   "execution_count": 10,
   "metadata": {},
   "outputs": [
    {
     "name": "stdout",
     "output_type": "stream",
     "text": [
      "5 + 10 = 15\n"
     ]
    }
   ],
   "source": [
    "print(\"{} + {} = {}\".format(a, b, a + b))"
   ]
  },
  {
   "cell_type": "markdown",
   "metadata": {},
   "source": [
    "Zahlen können auch formatiert werden. Sehen wir uns zunächst an, wie die Kreiszahl Pi standardmäßig ausgegeben wird:"
   ]
  },
  {
   "cell_type": "code",
   "execution_count": 11,
   "metadata": {},
   "outputs": [
    {
     "name": "stdout",
     "output_type": "stream",
     "text": [
      "The value of pi is approximately 3.141592653589793.\n"
     ]
    }
   ],
   "source": [
    "import math\n",
    "\n",
    "print('The value of pi is approximately {}.'.format(math.pi))"
   ]
  },
  {
   "cell_type": "markdown",
   "metadata": {},
   "source": [
    "Mit einem optionalen Doppelpunkt und einem sogenannten *Format Specifier* innerhalb der geschwungenen Klammern kann ein Feld gezielt formatiert werden. Das folgende Beispiel formatiert die Kommazahl Pi so, dass sie mit 3 Nachkommastellen ausgegeben wird:"
   ]
  },
  {
   "cell_type": "code",
   "execution_count": 12,
   "metadata": {},
   "outputs": [
    {
     "name": "stdout",
     "output_type": "stream",
     "text": [
      "The value of pi is approximately 3.142.\n"
     ]
    }
   ],
   "source": [
    "print('The value of pi is approximately {:.3f}.'.format(math.pi))"
   ]
  },
  {
   "cell_type": "markdown",
   "metadata": {},
   "source": [
    "Die minimale Feldbreite kann mit einer Zahl direkt nach dem Doppelpunkt aber vor dem Punkt eingestellt werden."
   ]
  },
  {
   "cell_type": "code",
   "execution_count": 13,
   "metadata": {},
   "outputs": [
    {
     "name": "stdout",
     "output_type": "stream",
     "text": [
      "The value of pi is approximately           3.142.\n"
     ]
    }
   ],
   "source": [
    "print('The value of pi is approximately {:15.3f}.'.format(math.pi))"
   ]
  },
  {
   "cell_type": "markdown",
   "metadata": {},
   "source": [
    "Alle Möglichkeiten, die Format Specifier innerhalb der geschwungenen Klammern bieten, finden sich in der [offiziellen Dokumentation](https://docs.python.org/3/library/string.html#format-string-syntax) (inklusive eine Menge Beispiele)."
   ]
  },
  {
   "cell_type": "markdown",
   "metadata": {},
   "source": [
    "### f-Strings\n",
    "Seit Python 3.6 gibt es eine weitere Möglichkeit, formatierte Strings zu erzeugen &ndash; mit sogenannten [f-Strings](https://docs.python.org/3/whatsnew/3.6.html#whatsnew36-pep498). Dies ist vielleicht die einfachste und kürzeste Möglichkeit welche die gleiche Flexibilität wie die `format`-Methode bietet. Die obigen Beispiele würden mit f-Strings wesentlich einfacher aussehen (beachten Sie das `f` direkt vor dem eigentlich String), weil man Python-Ausdrücke direkt innerhalb der geschwungenen Klammern angeben kann:"
   ]
  },
  {
   "cell_type": "code",
   "execution_count": 14,
   "metadata": {},
   "outputs": [
    {
     "name": "stdout",
     "output_type": "stream",
     "text": [
      "5 + 10 = 15\n"
     ]
    }
   ],
   "source": [
    "print(f\"{a} + {b} = {a + b}\")"
   ]
  },
  {
   "cell_type": "code",
   "execution_count": 15,
   "metadata": {},
   "outputs": [
    {
     "name": "stdout",
     "output_type": "stream",
     "text": [
      "The value of pi is approximately 3.141592653589793.\n"
     ]
    }
   ],
   "source": [
    "print(f\"The value of pi is approximately {math.pi}.\")"
   ]
  },
  {
   "cell_type": "code",
   "execution_count": 16,
   "metadata": {},
   "outputs": [
    {
     "name": "stdout",
     "output_type": "stream",
     "text": [
      "The value of pi is approximately 3.142.\n"
     ]
    }
   ],
   "source": [
    "print(f\"The value of pi is approximately {math.pi:.3f}.\")"
   ]
  },
  {
   "cell_type": "markdown",
   "metadata": {},
   "source": [
    "## Dateien lesen und schreiben\n",
    "Die Funktion `open` gibt ein File-Objekt zurück, welches zum Lesen oder Schreiben von Dateien verwendet werden kann:\n",
    "\n",
    "```Python\n",
    "f = open(\"test.txt\", \"w\")\n",
    "```\n",
    "\n",
    "Das erste Argument ist der Dateiname, und das zweite Argument beschreibt den Modus (`\"r\"` lesen, `\"w\"` schreiben, `\"a\"` hinzufügen). Standardmäßig wird der Modus `\"r\"` angenommen, wenn das Argument nicht übergeben wird.\n",
    "\n",
    "Mit dem File-Objekt `f` kann man dann von der Datei lesen bzw. in die Datei schreiben. Nach Beendigung aller Operationen muss man das File-Objekt wieder schließen:\n",
    "\n",
    "```Python\n",
    "f.close()\n",
    "```\n",
    "\n",
    "Eine gute Angewohnheit ist es aber, alle File-Operationen in einem `with`-Konstrukt durchzuführen; so wird die Datei bei Verlassen des `with`-Blocks automatisch geschlossen:\n",
    "\n",
    "```Python\n",
    "with open(\"text.txt\", \"r\") as f:\n",
    "    data = f.read()\n",
    "```\n",
    "\n",
    "Zu Beachten ist noch, dass der Dateiname als String übergeben wird. Dieser enthält entweder den vollständigen Pfad der zu öffnenden Datei (z.B. `\"C:/Program Files/Test Program/test.txt\"`), oder nur den Dateinamen. Im letzteren Fall wird dann angenommen, dass sich die Datei im aktuellen Arbeitsverzeichnis befindet. *Anmerkung:* Pfade sollten immer mit einem normalen `/` getrennt werden und nicht wie unter Windows üblich mit einem verkehrten `\\`."
   ]
  },
  {
   "cell_type": "markdown",
   "metadata": {},
   "source": [
    "Die Methode `read` eines File-Objektes liest die gesamte Datei ein und gibt den Inhalt als String zurück."
   ]
  },
  {
   "cell_type": "code",
   "execution_count": 17,
   "metadata": {},
   "outputs": [
    {
     "name": "stdout",
     "output_type": "stream",
     "text": [
      "Hello!\n",
      "\n",
      "This is just a test file containing some random text.\n",
      "\n",
      "Nice!\n"
     ]
    }
   ],
   "source": [
    "f = open(\"test.txt\")\n",
    "text = f.read()\n",
    "print(text)"
   ]
  },
  {
   "cell_type": "markdown",
   "metadata": {},
   "source": [
    "Der Inhalt einer Datei kann immer nur ein Mal gelesen werden. Wenn bereits der gesamte Inhalt gelesen wurde befindet sich der sogenannte Dateizeiger am Ende der Datei. Wenn dann nochmals gelesen wird, wird nur mehr ein leerer String zurückgegeben:"
   ]
  },
  {
   "cell_type": "code",
   "execution_count": 18,
   "metadata": {},
   "outputs": [
    {
     "data": {
      "text/plain": [
       "''"
      ]
     },
     "execution_count": 18,
     "metadata": {},
     "output_type": "execute_result"
    }
   ],
   "source": [
    "f.read()  # Ende des Files bereits erreicht, daher wird ein leerer String zurückgegeben"
   ]
  },
  {
   "cell_type": "markdown",
   "metadata": {},
   "source": [
    "Möchte man die Datei erneut lesen, muss man sie schließen und kann sie dann wieder erneut öffnen:"
   ]
  },
  {
   "cell_type": "code",
   "execution_count": 19,
   "metadata": {},
   "outputs": [],
   "source": [
    "f.close()  # schließt Datei (notwendig wenn man kein with verwendet)"
   ]
  },
  {
   "cell_type": "markdown",
   "metadata": {},
   "source": [
    "Die Methode `readline` liest eine Zeile aus der Datei:"
   ]
  },
  {
   "cell_type": "code",
   "execution_count": 20,
   "metadata": {},
   "outputs": [
    {
     "name": "stdout",
     "output_type": "stream",
     "text": [
      "1. Zeile:  Hello!\n",
      "2. Zeile:  \n",
      "3. Zeile:  This is just a test file containing some random text.\n"
     ]
    }
   ],
   "source": [
    "with open(\"test.txt\") as f:  # f wird nach Verlassen des with-Blocks automatisch geschlossen!\n",
    "    print(\"1. Zeile: \", f.readline(), end=\"\")\n",
    "    print(\"2. Zeile: \", f.readline(), end=\"\")\n",
    "    print(\"3. Zeile: \", f.readline(), end=\"\")"
   ]
  },
  {
   "cell_type": "markdown",
   "metadata": {},
   "source": [
    "In einer Schleife kann man die Datei Zeile für Zeile auslesen, in dem man über das File-Objekt iteriert:"
   ]
  },
  {
   "cell_type": "code",
   "execution_count": 21,
   "metadata": {},
   "outputs": [
    {
     "name": "stdout",
     "output_type": "stream",
     "text": [
      "Hello!\n",
      "\n",
      "This is just a test file containing some random text.\n",
      "\n",
      "Nice!"
     ]
    }
   ],
   "source": [
    "with open(\"test.txt\") as f:\n",
    "    for line in f:\n",
    "        print(line, end=\"\")"
   ]
  },
  {
   "cell_type": "markdown",
   "metadata": {},
   "source": [
    "So kann man einzelne Zeilen einfach manipulieren, z.B. um Zeilennummern auszugeben (die nicht in der Datei selbst sind):"
   ]
  },
  {
   "cell_type": "code",
   "execution_count": 22,
   "metadata": {},
   "outputs": [
    {
     "name": "stdout",
     "output_type": "stream",
     "text": [
      "0 Hello!\n",
      "1 \n",
      "2 This is just a test file containing some random text.\n",
      "3 \n",
      "4 Nice!"
     ]
    }
   ],
   "source": [
    "with open(\"test.txt\") as f:\n",
    "    for no, line in enumerate(f):\n",
    "        print(no, line, end=\"\")"
   ]
  },
  {
   "cell_type": "markdown",
   "metadata": {},
   "source": [
    "In der `for`-Schleife wird hier nicht direkt über `f`, sondern über `enumerate(f)` iteriert. Diese Funktion zählt die Schleifendurchläufe mit und gibt ein Tupel bestehend aus dem aktuellen Wert des Schleifenzählers sowie der aktuellen Zeile zurück."
   ]
  },
  {
   "cell_type": "markdown",
   "metadata": {},
   "source": [
    "Text in Dateien schreiben funktioniert sehr ähnlich &ndash; man öffnet die Datei im `\"w\"`-Modus und übergibt der `write`-Methode den gewünschten Inhalt als String:"
   ]
  },
  {
   "cell_type": "code",
   "execution_count": 23,
   "metadata": {},
   "outputs": [],
   "source": [
    "with open(\"test2.txt\", \"w\") as f:\n",
    "    f.write(\"Das ist ein Test.\\nSo kann man einfach\\nText\\nin Dateien schreiben.\")"
   ]
  },
  {
   "cell_type": "markdown",
   "metadata": {},
   "source": [
    "Im Beispiel oben steht das Zeichen `\\n` für einen Zeilenumbruch (neue Zeile)."
   ]
  },
  {
   "cell_type": "markdown",
   "metadata": {},
   "source": [
    "## Beispiel: CSV-Datei einlesen\n",
    "Mit den bis jetzt vorgestellten Mitteln können wir bereits CSV-Dateien einlesen und rudimentäre Statistiken rechnen. CSV-Dateien werden häufig verwendet, um Daten abzuspeichern. Diese Dateien sind reine Textdateien, in denen die Messwerte (Spalten) durch Kommas getrennt sind und zeilenweise vorliegen (comma separated values).\n",
    "\n",
    "Im Folgenden werden zum Einlesen dieser Dateien vier Möglichkeiten vorgestellt. Die erste Methode verwendet reines Python ohne spezielle Module, die zweite Methode ist eine Verallgemeinerung der ersten. Die dritte Methode verwendet das CSV-Modul aus der Standardbibliothek. Die empfohlene (einfachste) Variante mit dem Package [pandas](https://pandas.pydata.org/) werden wir allerdings in dieser Lehrveranstaltung nicht genauer kennenlernen."
   ]
  },
  {
   "cell_type": "markdown",
   "metadata": {},
   "source": [
    "### Möglichkeit 1"
   ]
  },
  {
   "cell_type": "code",
   "execution_count": 24,
   "metadata": {},
   "outputs": [],
   "source": [
    "data = []  # leere Liste\n",
    "with open(\"correlation.csv\") as f:\n",
    "    for row in f:\n",
    "        data.append(row.strip().split(\",\"))"
   ]
  },
  {
   "cell_type": "code",
   "execution_count": 25,
   "metadata": {},
   "outputs": [
    {
     "data": {
      "text/plain": [
       "[['essay', 'hours'],\n",
       " ['61.6754974920745', '10.6303372921189'],\n",
       " ['69.5450056362295', '7.28522617959232'],\n",
       " ['48.2293039713449', '5.05204775449098'],\n",
       " ['70.6786516311817', '2.88661436120476'],\n",
       " ['59.8996225857332', '9.54501229482367'],\n",
       " ['61.1620237718455', '11.3108384701452'],\n",
       " ['67.6247016928604', '7.46507180351913'],\n",
       " ['64.7790589873963', '8.47127906794298'],\n",
       " ['63.207063456166', '8.71537345316006'],\n",
       " ['49.6910817003072', '6.20347356947365'],\n",
       " ['63.7189196026189', '4.77251550782322'],\n",
       " ['72.2425933666743', '10.9815424018851'],\n",
       " ['70.5862210579123', '5.2215409766568'],\n",
       " ['58.6398615751171', '6.85848450383968'],\n",
       " ['58.7153800614887', '9.7984118965962'],\n",
       " ['67.3999698058767', '9.49072930246925'],\n",
       " ['60.7037631406063', '6.51736420324962'],\n",
       " ['60.931351175695', '11.8021326615165'],\n",
       " ['62.3401801239333', '8.96313112993931'],\n",
       " ['59.9662288209405', '5.42249029575092'],\n",
       " ['52.1619843495503', '6.40972025602273'],\n",
       " ['76.5879640890472', '15.0104773734972'],\n",
       " ['60.9196973933278', '8.07064211676739'],\n",
       " ['66.6330159660378', '10.9720986214915'],\n",
       " ['73.6195367228337', '14.7776461317624'],\n",
       " ['60.2224731091917', '5.2455561967939'],\n",
       " ['59.257246898708', '8.67216132385057'],\n",
       " ['51.9302907572568', '8.55546259639567'],\n",
       " ['59.4301075638833', '6.08144370899007'],\n",
       " ['69.4087175381595', '7.42190548469444'],\n",
       " ['65.2986136310666', '12.3137937416164'],\n",
       " ['60.2838297249765', '9.93443882388444'],\n",
       " ['60.8535237978012', '7.79529820172183'],\n",
       " ['71.6333469504558', '6.5627956116459'],\n",
       " ['69.1407939072155', '10.2828636303044'],\n",
       " ['66.4753904156445', '5.11639249646656'],\n",
       " ['63.0477561140632', '8.66268357519631'],\n",
       " ['68.1678280737943', '6.59320568183171'],\n",
       " ['64.7480342462125', '3.70537792316693'],\n",
       " ['68.2804343717536', '12.9178683539958'],\n",
       " ['60.4052387002632', '8.6962361085862'],\n",
       " ['64.6313248038771', '11.2150596156186'],\n",
       " ['58.2594898681359', '6.83244891007452'],\n",
       " ['52.2352473953415', '8.62308388223269'],\n",
       " ['79.8777504975499', '7.84368345377415']]"
      ]
     },
     "execution_count": 25,
     "metadata": {},
     "output_type": "execute_result"
    }
   ],
   "source": [
    "data"
   ]
  },
  {
   "cell_type": "markdown",
   "metadata": {},
   "source": [
    "Nun können die Daten in eine Struktur umgewandelt werden, die sich besser für nachfolgende Berechnungen eignet (also inbesondere werden die Zahlen, die jetzt noch als Strings vorliegen, mit der Funktion `float` in Kommazahlen umgewandelt)."
   ]
  },
  {
   "cell_type": "code",
   "execution_count": 26,
   "metadata": {},
   "outputs": [],
   "source": [
    "cols = [[], []]  # two empty lists for the two columns\n",
    "for row in data[1:]:  # skip first row (header)\n",
    "    cols[0].append(float(row[0]))  # first column\n",
    "    cols[1].append(float(row[1]))  # second column"
   ]
  },
  {
   "cell_type": "markdown",
   "metadata": {},
   "source": [
    "Nun stehen die beiden Spalten in der Liste `cols` zur weiteren Verfügung. Diese Liste hat zwei Elemente:"
   ]
  },
  {
   "cell_type": "code",
   "execution_count": 27,
   "metadata": {},
   "outputs": [
    {
     "data": {
      "text/plain": [
       "2"
      ]
     },
     "execution_count": 27,
     "metadata": {},
     "output_type": "execute_result"
    }
   ],
   "source": [
    "len(cols)"
   ]
  },
  {
   "cell_type": "markdown",
   "metadata": {},
   "source": [
    "Die beiden Einträge in `cols` sind ebenfalls Listen:"
   ]
  },
  {
   "cell_type": "code",
   "execution_count": 28,
   "metadata": {},
   "outputs": [
    {
     "data": {
      "text/plain": [
       "(list, list)"
      ]
     },
     "execution_count": 28,
     "metadata": {},
     "output_type": "execute_result"
    }
   ],
   "source": [
    "type(cols[0]), type(cols[1])"
   ]
  },
  {
   "cell_type": "markdown",
   "metadata": {},
   "source": [
    "Die Länge beider Listen entspricht den Zeilen in der CSV-Datei (ohne Kopfzeile):"
   ]
  },
  {
   "cell_type": "code",
   "execution_count": 29,
   "metadata": {},
   "outputs": [
    {
     "data": {
      "text/plain": [
       "(45, 45)"
      ]
     },
     "execution_count": 29,
     "metadata": {},
     "output_type": "execute_result"
    }
   ],
   "source": [
    "len(cols[0]), len(cols[1])"
   ]
  },
  {
   "cell_type": "markdown",
   "metadata": {},
   "source": [
    "Die Elemente in diesen beiden Listen sind Zahlen:"
   ]
  },
  {
   "cell_type": "code",
   "execution_count": 30,
   "metadata": {},
   "outputs": [
    {
     "data": {
      "text/plain": [
       "[61.6754974920745,\n",
       " 69.5450056362295,\n",
       " 48.2293039713449,\n",
       " 70.6786516311817,\n",
       " 59.8996225857332,\n",
       " 61.1620237718455,\n",
       " 67.6247016928604,\n",
       " 64.7790589873963,\n",
       " 63.207063456166,\n",
       " 49.6910817003072,\n",
       " 63.7189196026189,\n",
       " 72.2425933666743,\n",
       " 70.5862210579123,\n",
       " 58.6398615751171,\n",
       " 58.7153800614887,\n",
       " 67.3999698058767,\n",
       " 60.7037631406063,\n",
       " 60.931351175695,\n",
       " 62.3401801239333,\n",
       " 59.9662288209405,\n",
       " 52.1619843495503,\n",
       " 76.5879640890472,\n",
       " 60.9196973933278,\n",
       " 66.6330159660378,\n",
       " 73.6195367228337,\n",
       " 60.2224731091917,\n",
       " 59.257246898708,\n",
       " 51.9302907572568,\n",
       " 59.4301075638833,\n",
       " 69.4087175381595,\n",
       " 65.2986136310666,\n",
       " 60.2838297249765,\n",
       " 60.8535237978012,\n",
       " 71.6333469504558,\n",
       " 69.1407939072155,\n",
       " 66.4753904156445,\n",
       " 63.0477561140632,\n",
       " 68.1678280737943,\n",
       " 64.7480342462125,\n",
       " 68.2804343717536,\n",
       " 60.4052387002632,\n",
       " 64.6313248038771,\n",
       " 58.2594898681359,\n",
       " 52.2352473953415,\n",
       " 79.8777504975499]"
      ]
     },
     "execution_count": 30,
     "metadata": {},
     "output_type": "execute_result"
    }
   ],
   "source": [
    "cols[0]"
   ]
  },
  {
   "cell_type": "code",
   "execution_count": 31,
   "metadata": {},
   "outputs": [
    {
     "data": {
      "text/plain": [
       "[10.6303372921189,\n",
       " 7.28522617959232,\n",
       " 5.05204775449098,\n",
       " 2.88661436120476,\n",
       " 9.54501229482367,\n",
       " 11.3108384701452,\n",
       " 7.46507180351913,\n",
       " 8.47127906794298,\n",
       " 8.71537345316006,\n",
       " 6.20347356947365,\n",
       " 4.77251550782322,\n",
       " 10.9815424018851,\n",
       " 5.2215409766568,\n",
       " 6.85848450383968,\n",
       " 9.7984118965962,\n",
       " 9.49072930246925,\n",
       " 6.51736420324962,\n",
       " 11.8021326615165,\n",
       " 8.96313112993931,\n",
       " 5.42249029575092,\n",
       " 6.40972025602273,\n",
       " 15.0104773734972,\n",
       " 8.07064211676739,\n",
       " 10.9720986214915,\n",
       " 14.7776461317624,\n",
       " 5.2455561967939,\n",
       " 8.67216132385057,\n",
       " 8.55546259639567,\n",
       " 6.08144370899007,\n",
       " 7.42190548469444,\n",
       " 12.3137937416164,\n",
       " 9.93443882388444,\n",
       " 7.79529820172183,\n",
       " 6.5627956116459,\n",
       " 10.2828636303044,\n",
       " 5.11639249646656,\n",
       " 8.66268357519631,\n",
       " 6.59320568183171,\n",
       " 3.70537792316693,\n",
       " 12.9178683539958,\n",
       " 8.6962361085862,\n",
       " 11.2150596156186,\n",
       " 6.83244891007452,\n",
       " 8.62308388223269,\n",
       " 7.84368345377415]"
      ]
     },
     "execution_count": 31,
     "metadata": {},
     "output_type": "execute_result"
    }
   ],
   "source": [
    "cols[1]"
   ]
  },
  {
   "cell_type": "markdown",
   "metadata": {},
   "source": [
    "Mit diesen beiden Listen kann man jetzt also Berechnungen durchführen. Beispielsweise kann man die Spaltenmittelwerte so ausrechnen:"
   ]
  },
  {
   "cell_type": "code",
   "execution_count": 32,
   "metadata": {},
   "outputs": [
    {
     "data": {
      "text/plain": [
       "63.44991370093669"
      ]
     },
     "execution_count": 32,
     "metadata": {},
     "output_type": "execute_result"
    }
   ],
   "source": [
    "sum(cols[0]) / len(cols[0])"
   ]
  },
  {
   "cell_type": "code",
   "execution_count": 33,
   "metadata": {},
   "outputs": [
    {
     "data": {
      "text/plain": [
       "8.349021354368455"
      ]
     },
     "execution_count": 33,
     "metadata": {},
     "output_type": "execute_result"
    }
   ],
   "source": [
    "sum(cols[1]) / len(cols[1])"
   ]
  },
  {
   "cell_type": "markdown",
   "metadata": {},
   "source": [
    "Diese Lösung ist allerdings alles andere als ideal. Erstens sollte man immer bereits existierende Lösungen verwenden und nicht alles von Grund auf neu entwickeln (es gibt in Python wie bereits erwähnt ein eigenes CSV-Modul, und das Package `pandas` ist für solche Aufgaben geradezu prädestiniert). Zweitens ist diese Lösung auch sehr auf die konkrete Datei angepasst, z.B. funktioniert der Ansatz so nur für eine Datei mit exakt zwei Spalten."
   ]
  },
  {
   "cell_type": "markdown",
   "metadata": {},
   "source": [
    "### Möglichkeit 2\n",
    "Eine verallgemeinerte Lösung sieht wie folgt aus:"
   ]
  },
  {
   "cell_type": "code",
   "execution_count": 34,
   "metadata": {},
   "outputs": [],
   "source": [
    "with open(\"correlation.csv\") as f:\n",
    "    header = f.readline().strip().split(\",\")  # erste Zeile\n",
    "    \n",
    "    data = {}  # dict mit einem Eintrag pro Spalte\n",
    "    for name in header:\n",
    "        data[name] = []  # Key ist der Spaltenname, Value vorerst eine leere Liste\n",
    "    \n",
    "    for row in f:  # restliche Zeilen\n",
    "        values = row.strip().split(\",\")\n",
    "        for h, v in zip(header, values):\n",
    "            data[h].append(float(v))  # füge zur jeweiligen Liste hinzu"
   ]
  },
  {
   "cell_type": "markdown",
   "metadata": {},
   "source": [
    "Hier werden die Variablennamen aus der ersten Zeile gelesen. Die Daten werden dann in ein Dictionary geschrieben, wobei die Werte der Spalten zu den richtigen Dictionary-Einträgen (Listen) hinzugefügt werden. Die Funktion `zip` kombiniert die Werte von `header` und `values` in ein Tupel."
   ]
  },
  {
   "cell_type": "code",
   "execution_count": 35,
   "metadata": {},
   "outputs": [
    {
     "data": {
      "text/plain": [
       "{'essay': [61.6754974920745,\n",
       "  69.5450056362295,\n",
       "  48.2293039713449,\n",
       "  70.6786516311817,\n",
       "  59.8996225857332,\n",
       "  61.1620237718455,\n",
       "  67.6247016928604,\n",
       "  64.7790589873963,\n",
       "  63.207063456166,\n",
       "  49.6910817003072,\n",
       "  63.7189196026189,\n",
       "  72.2425933666743,\n",
       "  70.5862210579123,\n",
       "  58.6398615751171,\n",
       "  58.7153800614887,\n",
       "  67.3999698058767,\n",
       "  60.7037631406063,\n",
       "  60.931351175695,\n",
       "  62.3401801239333,\n",
       "  59.9662288209405,\n",
       "  52.1619843495503,\n",
       "  76.5879640890472,\n",
       "  60.9196973933278,\n",
       "  66.6330159660378,\n",
       "  73.6195367228337,\n",
       "  60.2224731091917,\n",
       "  59.257246898708,\n",
       "  51.9302907572568,\n",
       "  59.4301075638833,\n",
       "  69.4087175381595,\n",
       "  65.2986136310666,\n",
       "  60.2838297249765,\n",
       "  60.8535237978012,\n",
       "  71.6333469504558,\n",
       "  69.1407939072155,\n",
       "  66.4753904156445,\n",
       "  63.0477561140632,\n",
       "  68.1678280737943,\n",
       "  64.7480342462125,\n",
       "  68.2804343717536,\n",
       "  60.4052387002632,\n",
       "  64.6313248038771,\n",
       "  58.2594898681359,\n",
       "  52.2352473953415,\n",
       "  79.8777504975499],\n",
       " 'hours': [10.6303372921189,\n",
       "  7.28522617959232,\n",
       "  5.05204775449098,\n",
       "  2.88661436120476,\n",
       "  9.54501229482367,\n",
       "  11.3108384701452,\n",
       "  7.46507180351913,\n",
       "  8.47127906794298,\n",
       "  8.71537345316006,\n",
       "  6.20347356947365,\n",
       "  4.77251550782322,\n",
       "  10.9815424018851,\n",
       "  5.2215409766568,\n",
       "  6.85848450383968,\n",
       "  9.7984118965962,\n",
       "  9.49072930246925,\n",
       "  6.51736420324962,\n",
       "  11.8021326615165,\n",
       "  8.96313112993931,\n",
       "  5.42249029575092,\n",
       "  6.40972025602273,\n",
       "  15.0104773734972,\n",
       "  8.07064211676739,\n",
       "  10.9720986214915,\n",
       "  14.7776461317624,\n",
       "  5.2455561967939,\n",
       "  8.67216132385057,\n",
       "  8.55546259639567,\n",
       "  6.08144370899007,\n",
       "  7.42190548469444,\n",
       "  12.3137937416164,\n",
       "  9.93443882388444,\n",
       "  7.79529820172183,\n",
       "  6.5627956116459,\n",
       "  10.2828636303044,\n",
       "  5.11639249646656,\n",
       "  8.66268357519631,\n",
       "  6.59320568183171,\n",
       "  3.70537792316693,\n",
       "  12.9178683539958,\n",
       "  8.6962361085862,\n",
       "  11.2150596156186,\n",
       "  6.83244891007452,\n",
       "  8.62308388223269,\n",
       "  7.84368345377415]}"
      ]
     },
     "execution_count": 35,
     "metadata": {},
     "output_type": "execute_result"
    }
   ],
   "source": [
    "data"
   ]
  },
  {
   "cell_type": "markdown",
   "metadata": {},
   "source": [
    "Diese Lösung funktioniert also bereits mit einer beliebigen Spaltenanzahl, setzt aber voraus, dass es eine Header-Zeile gibt. Die Spaltenmittelwerte können dann wie folgt berechnet werden:"
   ]
  },
  {
   "cell_type": "code",
   "execution_count": 36,
   "metadata": {},
   "outputs": [
    {
     "data": {
      "text/plain": [
       "63.44991370093669"
      ]
     },
     "execution_count": 36,
     "metadata": {},
     "output_type": "execute_result"
    }
   ],
   "source": [
    "sum(data[\"essay\"]) / len(data[\"essay\"])"
   ]
  },
  {
   "cell_type": "code",
   "execution_count": 37,
   "metadata": {},
   "outputs": [
    {
     "data": {
      "text/plain": [
       "8.349021354368455"
      ]
     },
     "execution_count": 37,
     "metadata": {},
     "output_type": "execute_result"
    }
   ],
   "source": [
    "sum(data[\"hours\"]) / len(data[\"hours\"])"
   ]
  },
  {
   "cell_type": "markdown",
   "metadata": {},
   "source": [
    "### Möglichkeit 3\n",
    "Mit dem Modul `csv` kann man das Lesen robuster gestalten (d.h. einfach an verschiedene Formate anpassen). Ansonsten ist diese Variante aber identisch mit der vorigen Lösung."
   ]
  },
  {
   "cell_type": "code",
   "execution_count": 38,
   "metadata": {},
   "outputs": [],
   "source": [
    "import csv\n",
    "\n",
    "\n",
    "with open(\"correlation.csv\") as f:\n",
    "    reader = csv.reader(f)\n",
    "    header = next(reader)  # erste Zeile\n",
    "    \n",
    "    data = {}\n",
    "    for name in header:\n",
    "        data[name] = []\n",
    "    \n",
    "    for row in reader:  # restlichen Zeilen\n",
    "        for h, v in zip(header, row):\n",
    "            data[h].append(float(v))"
   ]
  },
  {
   "cell_type": "markdown",
   "metadata": {},
   "source": [
    "### Möglichkeit 4\n",
    "Das Package `pandas` eignet sich ideal zum Verarbeiten von tabellarischen Daten. Es beinhaltet auch Funktionen zum Lesen von Dateien. Damit würde der Code wie folgt aussehen:"
   ]
  },
  {
   "cell_type": "code",
   "execution_count": 39,
   "metadata": {},
   "outputs": [],
   "source": [
    "import pandas as pd\n",
    "\n",
    "data = pd.read_csv(\"correlation.csv\")"
   ]
  },
  {
   "cell_type": "code",
   "execution_count": 40,
   "metadata": {},
   "outputs": [
    {
     "data": {
      "text/html": [
       "<div>\n",
       "<style scoped>\n",
       "    .dataframe tbody tr th:only-of-type {\n",
       "        vertical-align: middle;\n",
       "    }\n",
       "\n",
       "    .dataframe tbody tr th {\n",
       "        vertical-align: top;\n",
       "    }\n",
       "\n",
       "    .dataframe thead th {\n",
       "        text-align: right;\n",
       "    }\n",
       "</style>\n",
       "<table border=\"1\" class=\"dataframe\">\n",
       "  <thead>\n",
       "    <tr style=\"text-align: right;\">\n",
       "      <th></th>\n",
       "      <th>essay</th>\n",
       "      <th>hours</th>\n",
       "    </tr>\n",
       "  </thead>\n",
       "  <tbody>\n",
       "    <tr>\n",
       "      <th>0</th>\n",
       "      <td>61.675497</td>\n",
       "      <td>10.630337</td>\n",
       "    </tr>\n",
       "    <tr>\n",
       "      <th>1</th>\n",
       "      <td>69.545006</td>\n",
       "      <td>7.285226</td>\n",
       "    </tr>\n",
       "    <tr>\n",
       "      <th>2</th>\n",
       "      <td>48.229304</td>\n",
       "      <td>5.052048</td>\n",
       "    </tr>\n",
       "    <tr>\n",
       "      <th>3</th>\n",
       "      <td>70.678652</td>\n",
       "      <td>2.886614</td>\n",
       "    </tr>\n",
       "    <tr>\n",
       "      <th>4</th>\n",
       "      <td>59.899623</td>\n",
       "      <td>9.545012</td>\n",
       "    </tr>\n",
       "    <tr>\n",
       "      <th>5</th>\n",
       "      <td>61.162024</td>\n",
       "      <td>11.310838</td>\n",
       "    </tr>\n",
       "    <tr>\n",
       "      <th>6</th>\n",
       "      <td>67.624702</td>\n",
       "      <td>7.465072</td>\n",
       "    </tr>\n",
       "    <tr>\n",
       "      <th>7</th>\n",
       "      <td>64.779059</td>\n",
       "      <td>8.471279</td>\n",
       "    </tr>\n",
       "    <tr>\n",
       "      <th>8</th>\n",
       "      <td>63.207063</td>\n",
       "      <td>8.715373</td>\n",
       "    </tr>\n",
       "    <tr>\n",
       "      <th>9</th>\n",
       "      <td>49.691082</td>\n",
       "      <td>6.203474</td>\n",
       "    </tr>\n",
       "    <tr>\n",
       "      <th>10</th>\n",
       "      <td>63.718920</td>\n",
       "      <td>4.772516</td>\n",
       "    </tr>\n",
       "    <tr>\n",
       "      <th>11</th>\n",
       "      <td>72.242593</td>\n",
       "      <td>10.981542</td>\n",
       "    </tr>\n",
       "    <tr>\n",
       "      <th>12</th>\n",
       "      <td>70.586221</td>\n",
       "      <td>5.221541</td>\n",
       "    </tr>\n",
       "    <tr>\n",
       "      <th>13</th>\n",
       "      <td>58.639862</td>\n",
       "      <td>6.858485</td>\n",
       "    </tr>\n",
       "    <tr>\n",
       "      <th>14</th>\n",
       "      <td>58.715380</td>\n",
       "      <td>9.798412</td>\n",
       "    </tr>\n",
       "    <tr>\n",
       "      <th>15</th>\n",
       "      <td>67.399970</td>\n",
       "      <td>9.490729</td>\n",
       "    </tr>\n",
       "    <tr>\n",
       "      <th>16</th>\n",
       "      <td>60.703763</td>\n",
       "      <td>6.517364</td>\n",
       "    </tr>\n",
       "    <tr>\n",
       "      <th>17</th>\n",
       "      <td>60.931351</td>\n",
       "      <td>11.802133</td>\n",
       "    </tr>\n",
       "    <tr>\n",
       "      <th>18</th>\n",
       "      <td>62.340180</td>\n",
       "      <td>8.963131</td>\n",
       "    </tr>\n",
       "    <tr>\n",
       "      <th>19</th>\n",
       "      <td>59.966229</td>\n",
       "      <td>5.422490</td>\n",
       "    </tr>\n",
       "    <tr>\n",
       "      <th>20</th>\n",
       "      <td>52.161984</td>\n",
       "      <td>6.409720</td>\n",
       "    </tr>\n",
       "    <tr>\n",
       "      <th>21</th>\n",
       "      <td>76.587964</td>\n",
       "      <td>15.010477</td>\n",
       "    </tr>\n",
       "    <tr>\n",
       "      <th>22</th>\n",
       "      <td>60.919697</td>\n",
       "      <td>8.070642</td>\n",
       "    </tr>\n",
       "    <tr>\n",
       "      <th>23</th>\n",
       "      <td>66.633016</td>\n",
       "      <td>10.972099</td>\n",
       "    </tr>\n",
       "    <tr>\n",
       "      <th>24</th>\n",
       "      <td>73.619537</td>\n",
       "      <td>14.777646</td>\n",
       "    </tr>\n",
       "    <tr>\n",
       "      <th>25</th>\n",
       "      <td>60.222473</td>\n",
       "      <td>5.245556</td>\n",
       "    </tr>\n",
       "    <tr>\n",
       "      <th>26</th>\n",
       "      <td>59.257247</td>\n",
       "      <td>8.672161</td>\n",
       "    </tr>\n",
       "    <tr>\n",
       "      <th>27</th>\n",
       "      <td>51.930291</td>\n",
       "      <td>8.555463</td>\n",
       "    </tr>\n",
       "    <tr>\n",
       "      <th>28</th>\n",
       "      <td>59.430108</td>\n",
       "      <td>6.081444</td>\n",
       "    </tr>\n",
       "    <tr>\n",
       "      <th>29</th>\n",
       "      <td>69.408718</td>\n",
       "      <td>7.421905</td>\n",
       "    </tr>\n",
       "    <tr>\n",
       "      <th>30</th>\n",
       "      <td>65.298614</td>\n",
       "      <td>12.313794</td>\n",
       "    </tr>\n",
       "    <tr>\n",
       "      <th>31</th>\n",
       "      <td>60.283830</td>\n",
       "      <td>9.934439</td>\n",
       "    </tr>\n",
       "    <tr>\n",
       "      <th>32</th>\n",
       "      <td>60.853524</td>\n",
       "      <td>7.795298</td>\n",
       "    </tr>\n",
       "    <tr>\n",
       "      <th>33</th>\n",
       "      <td>71.633347</td>\n",
       "      <td>6.562796</td>\n",
       "    </tr>\n",
       "    <tr>\n",
       "      <th>34</th>\n",
       "      <td>69.140794</td>\n",
       "      <td>10.282864</td>\n",
       "    </tr>\n",
       "    <tr>\n",
       "      <th>35</th>\n",
       "      <td>66.475390</td>\n",
       "      <td>5.116392</td>\n",
       "    </tr>\n",
       "    <tr>\n",
       "      <th>36</th>\n",
       "      <td>63.047756</td>\n",
       "      <td>8.662684</td>\n",
       "    </tr>\n",
       "    <tr>\n",
       "      <th>37</th>\n",
       "      <td>68.167828</td>\n",
       "      <td>6.593206</td>\n",
       "    </tr>\n",
       "    <tr>\n",
       "      <th>38</th>\n",
       "      <td>64.748034</td>\n",
       "      <td>3.705378</td>\n",
       "    </tr>\n",
       "    <tr>\n",
       "      <th>39</th>\n",
       "      <td>68.280434</td>\n",
       "      <td>12.917868</td>\n",
       "    </tr>\n",
       "    <tr>\n",
       "      <th>40</th>\n",
       "      <td>60.405239</td>\n",
       "      <td>8.696236</td>\n",
       "    </tr>\n",
       "    <tr>\n",
       "      <th>41</th>\n",
       "      <td>64.631325</td>\n",
       "      <td>11.215060</td>\n",
       "    </tr>\n",
       "    <tr>\n",
       "      <th>42</th>\n",
       "      <td>58.259490</td>\n",
       "      <td>6.832449</td>\n",
       "    </tr>\n",
       "    <tr>\n",
       "      <th>43</th>\n",
       "      <td>52.235247</td>\n",
       "      <td>8.623084</td>\n",
       "    </tr>\n",
       "    <tr>\n",
       "      <th>44</th>\n",
       "      <td>79.877750</td>\n",
       "      <td>7.843683</td>\n",
       "    </tr>\n",
       "  </tbody>\n",
       "</table>\n",
       "</div>"
      ],
      "text/plain": [
       "        essay      hours\n",
       "0   61.675497  10.630337\n",
       "1   69.545006   7.285226\n",
       "2   48.229304   5.052048\n",
       "3   70.678652   2.886614\n",
       "4   59.899623   9.545012\n",
       "5   61.162024  11.310838\n",
       "6   67.624702   7.465072\n",
       "7   64.779059   8.471279\n",
       "8   63.207063   8.715373\n",
       "9   49.691082   6.203474\n",
       "10  63.718920   4.772516\n",
       "11  72.242593  10.981542\n",
       "12  70.586221   5.221541\n",
       "13  58.639862   6.858485\n",
       "14  58.715380   9.798412\n",
       "15  67.399970   9.490729\n",
       "16  60.703763   6.517364\n",
       "17  60.931351  11.802133\n",
       "18  62.340180   8.963131\n",
       "19  59.966229   5.422490\n",
       "20  52.161984   6.409720\n",
       "21  76.587964  15.010477\n",
       "22  60.919697   8.070642\n",
       "23  66.633016  10.972099\n",
       "24  73.619537  14.777646\n",
       "25  60.222473   5.245556\n",
       "26  59.257247   8.672161\n",
       "27  51.930291   8.555463\n",
       "28  59.430108   6.081444\n",
       "29  69.408718   7.421905\n",
       "30  65.298614  12.313794\n",
       "31  60.283830   9.934439\n",
       "32  60.853524   7.795298\n",
       "33  71.633347   6.562796\n",
       "34  69.140794  10.282864\n",
       "35  66.475390   5.116392\n",
       "36  63.047756   8.662684\n",
       "37  68.167828   6.593206\n",
       "38  64.748034   3.705378\n",
       "39  68.280434  12.917868\n",
       "40  60.405239   8.696236\n",
       "41  64.631325  11.215060\n",
       "42  58.259490   6.832449\n",
       "43  52.235247   8.623084\n",
       "44  79.877750   7.843683"
      ]
     },
     "execution_count": 40,
     "metadata": {},
     "output_type": "execute_result"
    }
   ],
   "source": [
    "data"
   ]
  },
  {
   "cell_type": "markdown",
   "metadata": {},
   "source": [
    "Die Spaltenmittelwerte kann man dann wie folgt berechnen:"
   ]
  },
  {
   "cell_type": "code",
   "execution_count": 41,
   "metadata": {
    "scrolled": true
   },
   "outputs": [
    {
     "data": {
      "text/plain": [
       "essay    63.449914\n",
       "hours     8.349021\n",
       "dtype: float64"
      ]
     },
     "execution_count": 41,
     "metadata": {},
     "output_type": "execute_result"
    }
   ],
   "source": [
    "data.mean()"
   ]
  },
  {
   "cell_type": "markdown",
   "metadata": {},
   "source": [
    "## Übungen\n",
    "\n",
    "### Übung 1\n",
    "Erstellen Sie eine Liste `lst`, welche die *geraden* Zahlen zwischen 0 und 100 (inklusive) beinhaltet, und speichern Sie diese Zahlen in eine Datei `ue1.txt`. In der Datei soll jede Zahl in einer eigenen Zeile stehen.\n",
    "\n",
    "*Hinweis:* Zahlen sollten Sie vor dem Schreiben in die Datei mit der Funktion `str` in Strings umwandeln. Das Zeichen für einen Zeilenumbruch lautet `\\n`. Sie können z.B. eine `for`-Schleife über die Zahlenliste machen und die einzelnen Elemente nacheinander in die Datei schreiben. Alternativ können Sie auch die Liste in einen richtig formatierten String umwandeln (die String-Methode `join` ist hier hilfreich) und diesen dann in die Datei schreiben.\n",
    "\n",
    "\n",
    "### Übung 2\n",
    "Verwenden Sie wieder die Liste `lst` aus Übung 1, aber schreiben Sie die Zahlen nun so in eine Datei `ue2.txt`, dass diese durch Kommas getrennt in einer Zeile stehen.\n",
    "\n",
    "\n",
    "### Übung 3\n",
    "Das Spiel Scrabble eignet sich hervorragend, um über die Existenz von Wörtern zu diskutieren. Zumindest für die englische Ausgabe gibt es eine [offizielle Wortliste](http://www.freescrabbledictionary.com/sowpods/), die man konsultieren kann, wenn man nicht sicher ist, ob es sich bei einer Kreation um ein gültiges Wort handelt oder nicht. Alle Wörter in dieser Datenbank können als Textdatei von https://www.wordgamedictionary.com/sowpods/download/sowpods.txt heruntergeladen werden.\n",
    "\n",
    "Für diese Übung laden Sie sich diese Datei herunter und speichern Sie sie in Ihrem Arbeitsverzeichnis ab (im Browser \"Seite speichern unter\" oder ähnlich). Lesen Sie die Datei dann in Python ein und finden Sie heraus, wie viele Wörter (Zeilen) sich in der Datei befinden.\n",
    "\n",
    "*Hinweis:* Iterieren Sie mit einer `for`-Schleife über das File-Objekt und zählen Sie die Schleifendurchläufe mit. Am Ende der Schleife (d.h. am Ende der Datei) entspricht dann ihr Zähler der Zeilenanzahl der Datei (d.h. der Anzahl der Wörter). Beachten Sie, dass die ersten paar Zeilen in der Datei keine Wörter beinhalten!\n",
    "\n",
    "\n",
    "### Übung 4\n",
    "Verwenden Sie die Wörter-Datei aus Übung 3 und finden Sie heraus, wie viele Wörter mit mehr als 14 Buchstaben in der Liste enthalten sind (also Wörter mit 15 Buchstaben oder mehr).\n",
    "\n",
    "*Hinweis:* Wenn Sie die Datei Zeile für Zeile einlesen, entfernen Sie unsichtbare Zeichen (wie z.B. Zeilenumbruch) mit der Methode `strip`, bevor Sie die Länge des aktuellen Wortes bestimmen (ansonsten ist die Länge immer um 1 größer als die Länge des Wortes, weil der Inhalt einer Zeile z.B. `abandon\\n` lautet, und `\\n` wird als ein Zeichen gezählt). Erhöhen Sie Ihren Zähler nur, wenn die Länge des aktuellen Wortes größer als 14 ist."
   ]
  },
  {
   "cell_type": "markdown",
   "metadata": {},
   "source": [
    "---\n",
    "[![](cc_license.png)](http://creativecommons.org/licenses/by-nc-sa/4.0/)"
   ]
  }
 ],
 "metadata": {
  "anaconda-cloud": {},
  "kernelspec": {
   "display_name": "Python 3",
   "language": "python",
   "name": "python3"
  },
  "language_info": {
   "codemirror_mode": {
    "name": "ipython",
    "version": 3
   },
   "file_extension": ".py",
   "mimetype": "text/x-python",
   "name": "python",
   "nbconvert_exporter": "python",
   "pygments_lexer": "ipython3",
   "version": "3.9.4"
  }
 },
 "nbformat": 4,
 "nbformat_minor": 2
}
